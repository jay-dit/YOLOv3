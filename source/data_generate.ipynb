{
 "cells": [
  {
   "cell_type": "code",
   "execution_count": 1,
   "metadata": {},
   "outputs": [],
   "source": [
    "import cv2\n",
    "import matplotlib.pyplot as plt\n",
    "import pandas as pd \n",
    "import numpy as np\n",
    "from os import listdir"
   ]
  },
  {
   "cell_type": "code",
   "execution_count": 2,
   "metadata": {},
   "outputs": [],
   "source": [
    "\n",
    "def donut_to_image(background, donut, x, y):\n",
    "    copy = background.copy()\n",
    "    for x_d in range(donut.shape[0]):\n",
    "        for y_d in range(donut.shape[1]):\n",
    "            try:\n",
    "                if (donut[x_d, y_d] != np.array([255,255,255])).any():\n",
    "                    copy[x+x_d, y+y_d] = donut[x_d, y_d]\n",
    "            except:\n",
    "                pass\n",
    "    return copy"
   ]
  },
  {
   "cell_type": "code",
   "execution_count": 3,
   "metadata": {},
   "outputs": [],
   "source": [
    "def random_donut(n, back, donut):\n",
    "    N = int(np.random.randint(low = 1, high = n, size = 1))\n",
    "    copy_b = back.copy()\n",
    "\n",
    "    sp = []\n",
    "\n",
    "    for _ in range(N):\n",
    "        x, y = np.random.randint(low = 16, high = 112, size = 2)\n",
    "        width, height = np.random.randint(low = 16, high=32, size = 2)\n",
    "        res_don = cv2.resize(donut, (width, width), cv2.INTER_NEAREST)\n",
    "        copy_b = donut_to_image(copy_b, res_don, x, y)\n",
    "        sp.append([x+width//2, y + width//2, width, width])\n",
    "    \n",
    "    return copy_b.tolist(), sp"
   ]
  },
  {
   "cell_type": "code",
   "execution_count": 4,
   "metadata": {},
   "outputs": [],
   "source": [
    "def swap_xy(np_arr):\n",
    "    x = (np_arr[3] + np_arr[1])//2\n",
    "    y = (np_arr[2] + np_arr[0])//2\n",
    "    w = (np_arr[3] - np_arr[1])\n",
    "    h = (np_arr[2] - np_arr[0])\n",
    "    return np.array([x, y, w, h])\n",
    "\n",
    "t = lambda x: -np.log(1/x - 1)"
   ]
  },
  {
   "cell_type": "code",
   "execution_count": 5,
   "metadata": {},
   "outputs": [],
   "source": [
    "def box(el, \n",
    "        N = 16, \n",
    "        img_width = 128,\n",
    "        img_height = 128,\n",
    "        pw = 10,\n",
    "        ph = 10):\n",
    "        \n",
    "    anchor_boxes = []\n",
    "    for i in range(N):\n",
    "        anchor_boxes.append([0] * N)\n",
    "    for box in el:\n",
    "        x, y, w, h = box\n",
    "\n",
    "        mod_tx = (x%(img_width/N))/(img_width/N)\n",
    "\n",
    "        ind_x = int(x//(img_width/N))  \n",
    "        \n",
    "        tx = t(mod_tx + 0.01) if mod_tx == 0 else t(mod_tx)\n",
    "\n",
    "\n",
    "        mod_ty = (x%(img_width/N))/(img_width/N)\n",
    "        ind_y = int(y//(img_height/N)) \n",
    "        \n",
    "        \n",
    "        ty = t(mod_ty + 0.01) if mod_ty == 0 else t(mod_ty)\n",
    "\n",
    "        tw = np.log(w/pw)\n",
    "        th = np.log(h/ph)\n",
    "        \n",
    "       \n",
    "\n",
    "        anchor_boxes[ind_x][ind_y] = [tx, ty, tw, th, 1]\n",
    "    \n",
    "    for x in range(N):\n",
    "        for y in range(N):\n",
    "            if anchor_boxes[x][y] == 0:\n",
    "                tw = float(np.random.uniform(-0.346, 0.346, 1))\n",
    "                th = float(np.random.uniform(-0.346, 0.346, 1))\n",
    "                tx = float(np.random.uniform(-2, 2, 1))\n",
    "                ty = float(np.random.uniform(-2, 2, 1))\n",
    "                anchor_boxes[x][y] = [tx,ty,tw,th,0]\n",
    "    return anchor_boxes"
   ]
  },
  {
   "cell_type": "code",
   "execution_count": 6,
   "metadata": {},
   "outputs": [
    {
     "name": "stdout",
     "output_type": "stream",
     "text": [
      "0\n",
      "1\n",
      "2\n",
      "3\n",
      "4\n",
      "5\n",
      "6\n",
      "7\n",
      "8\n",
      "9\n",
      "10\n",
      "11\n",
      "12\n",
      "13\n",
      "14\n",
      "15\n",
      "16\n",
      "17\n",
      "18\n",
      "19\n",
      "20\n",
      "21\n",
      "22\n",
      "23\n",
      "24\n",
      "25\n",
      "26\n",
      "27\n",
      "28\n",
      "29\n",
      "30\n",
      "31\n",
      "32\n",
      "33\n",
      "34\n",
      "35\n",
      "36\n",
      "37\n",
      "38\n",
      "39\n",
      "40\n",
      "41\n",
      "42\n",
      "43\n",
      "44\n",
      "45\n",
      "46\n",
      "47\n",
      "48\n",
      "49\n",
      "50\n",
      "51\n",
      "52\n",
      "53\n",
      "54\n",
      "55\n",
      "56\n",
      "57\n",
      "58\n",
      "59\n",
      "60\n",
      "61\n",
      "62\n",
      "63\n",
      "64\n",
      "65\n",
      "66\n",
      "67\n",
      "68\n",
      "69\n",
      "70\n",
      "71\n",
      "72\n",
      "73\n",
      "74\n",
      "75\n",
      "76\n",
      "77\n",
      "78\n",
      "79\n",
      "80\n",
      "81\n",
      "82\n",
      "83\n",
      "84\n",
      "85\n",
      "86\n",
      "87\n",
      "88\n",
      "89\n",
      "90\n",
      "91\n",
      "92\n",
      "93\n",
      "94\n",
      "95\n",
      "96\n",
      "97\n",
      "98\n",
      "99\n"
     ]
    }
   ],
   "source": [
    "path = 'D:/Reps/YOLOv3/data/images/background/'\n",
    "\n",
    "donut = cv2.imread(r'D:\\Reps\\YOLOv3\\data\\images\\donut.png')\n",
    "\n",
    "X = []\n",
    "Y = []\n",
    "\n",
    "for ind, img in enumerate(listdir(path)):\n",
    "    win = cv2.imread(path+img)\n",
    "    win = cv2.resize(win, (128, 128), cv2.INTER_NEAREST)\n",
    "    print(ind)\n",
    "    for ind in range(50):\n",
    "        data = random_donut(7, win, donut)\n",
    "        X.append(data[0])\n",
    "        Y.append(box(data[1]))"
   ]
  },
  {
   "cell_type": "code",
   "execution_count": 7,
   "metadata": {},
   "outputs": [],
   "source": [
    "X = np.array(X)\n",
    "Y = np.array(Y)"
   ]
  },
  {
   "cell_type": "code",
   "execution_count": 8,
   "metadata": {},
   "outputs": [
    {
     "data": {
      "text/plain": [
       "(5000, 128, 128, 3)"
      ]
     },
     "execution_count": 8,
     "metadata": {},
     "output_type": "execute_result"
    }
   ],
   "source": [
    "X.shape"
   ]
  },
  {
   "cell_type": "code",
   "execution_count": 9,
   "metadata": {},
   "outputs": [
    {
     "data": {
      "text/plain": [
       "(5000, 16, 16, 5)"
      ]
     },
     "execution_count": 9,
     "metadata": {},
     "output_type": "execute_result"
    }
   ],
   "source": [
    "Y.shape"
   ]
  },
  {
   "cell_type": "code",
   "execution_count": 10,
   "metadata": {},
   "outputs": [],
   "source": [
    "np.save('D:/Reps/YOLOv3/data/X', X)\n",
    "np.save('D:/Reps/YOLOv3/data/Y', Y)"
   ]
  }
 ],
 "metadata": {
  "kernelspec": {
   "display_name": "Python 3.9.13 ('YOLO': venv)",
   "language": "python",
   "name": "python3"
  },
  "language_info": {
   "codemirror_mode": {
    "name": "ipython",
    "version": 3
   },
   "file_extension": ".py",
   "mimetype": "text/x-python",
   "name": "python",
   "nbconvert_exporter": "python",
   "pygments_lexer": "ipython3",
   "version": "3.9.13"
  },
  "orig_nbformat": 4,
  "vscode": {
   "interpreter": {
    "hash": "1665bf27a970f9f80e78ea400f2074e7e12796c8889da21c44ef353b61b4c7ee"
   }
  }
 },
 "nbformat": 4,
 "nbformat_minor": 2
}
