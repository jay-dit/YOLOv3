{
 "cells": [
  {
   "cell_type": "code",
   "execution_count": 100,
   "metadata": {},
   "outputs": [],
   "source": [
    "import tensorflow as tf"
   ]
  },
  {
   "cell_type": "code",
   "execution_count": 101,
   "metadata": {},
   "outputs": [],
   "source": [
    "class Darknet_BN_Leaky(tf.keras.Model):\n",
    "    def __init__(self, \n",
    "                 filter, \n",
    "                 kernel, \n",
    "                 stride,\n",
    "                 type_of_network, \n",
    "                 padding = 'same'):\n",
    "        if type_of_network == '1d':\n",
    "            self.conv = tf.keras.layers.Conv1D(filter,\n",
    "                                               kernel,\n",
    "                                               strides = stride,\n",
    "                                               padding=padding)\n",
    "        if type_of_network == '2d':\n",
    "            self.conv = tf.keras.layers.Conv2D(filter,\n",
    "                                               kernel,\n",
    "                                               strides = stride,\n",
    "                                               padding=padding)\n",
    "                                               \n",
    "        self.batch_norm = tf.keras.layers.BatchNormalization()\n",
    "        self.lrelu = tf.keras.layers.LeakyReLU()\n",
    "\n",
    "    def call(self, input_tensor, training=False):\n",
    "        x = self.conv(input_tensor)\n",
    "        x = self.batch_norm(x, training=training)\n",
    "        x = self.lrelu(x)\n",
    "        return x"
   ]
  },
  {
   "cell_type": "code",
   "execution_count": 102,
   "metadata": {},
   "outputs": [],
   "source": [
    "class Res_unit(tf.keras.Model):\n",
    "    def __init__(self, \n",
    "                 kernels, \n",
    "                 filters,\n",
    "                 strides, \n",
    "                 type_of_network):\n",
    "\n",
    "        filter1, filter2 = filters\n",
    "        kernel1, kernel2 = kernels\n",
    "        stride1, stride2 = strides\n",
    "        \n",
    "\n",
    "        self.conv1_1 = Darknet_BN_Leaky(filter1,\n",
    "                                        kernel1,\n",
    "                                        strides=stride1,\n",
    "                                        type_of_network = type_of_network\n",
    "                                        )\n",
    "\n",
    "        self.conv1_2 = Darknet_BN_Leaky(filter2,\n",
    "                                        kernel2,\n",
    "                                        strides=stride2,\n",
    "                                        type_of_network = type_of_network\n",
    "                                        )\n",
    "        \n",
    "\n",
    "    def call(self, input_tensor):\n",
    "        \n",
    "        x = self.conv1_1(input_tensor)\n",
    "        x = self.conv1_2(x)\n",
    "\n",
    "        x += input_tensor\n",
    "\n",
    "        return x "
   ]
  },
  {
   "cell_type": "code",
   "execution_count": 103,
   "metadata": {},
   "outputs": [],
   "source": [
    "class ResBlock_N(tf.keras.Model):\n",
    "\n",
    "    def __init__(self, \n",
    "                 num, \n",
    "                 filters, \n",
    "                 kernels, \n",
    "                 strides,\n",
    "                 type_of_network, \n",
    "                 padding = 'same'):\n",
    "        if type_of_network == '1d':\n",
    "            self.DBL = tf.keras.layers.Conv1D(filters[0],\n",
    "                                              kernels[0],\n",
    "                                              strides = strides[0],\n",
    "                                              padding=padding[0])\n",
    "        if type_of_network == '2d':\n",
    "            self.DBL = tf.keras.layers.Conv2D(filters[0],\n",
    "                                              kernels[0],\n",
    "                                              strides = strides[0],\n",
    "                                              padding=padding[0])\n",
    "        self.res_body = []\n",
    "        for ind in range(1, num):\n",
    "            self.res_body.append(Res_unit(filters[ind],\n",
    "                                        kernels[ind],\n",
    "                                        strides=strides[ind],\n",
    "                                        type_of_network = type_of_network\n",
    "                                        ))\n",
    "\n",
    "    def call(self, input_tensor):\n",
    "        x = self.DBL(input_tensor)\n",
    "\n",
    "        for Res_Unit in self.res_body:\n",
    "            x = Res_Unit(x)\n",
    "\n",
    "        return x"
   ]
  },
  {
   "cell_type": "code",
   "execution_count": 1,
   "metadata": {},
   "outputs": [],
   "source": [
    "from tensorflow.keras.layers import Input\n",
    "\n",
    "def build_model(image_height, image_width):\n",
    "\n",
    "    x = Input(shape = (image_height, image_width), name = 'Input')\n",
    "\n",
    "    x = Darknet_BN_Leaky(32, 3, 1, '1d')"
   ]
  },
  {
   "cell_type": "code",
   "execution_count": null,
   "metadata": {},
   "outputs": [],
   "source": []
  }
 ],
 "metadata": {
  "kernelspec": {
   "display_name": "Python 3.9.13 ('Yolo': venv)",
   "language": "python",
   "name": "python3"
  },
  "language_info": {
   "codemirror_mode": {
    "name": "ipython",
    "version": 3
   },
   "file_extension": ".py",
   "mimetype": "text/x-python",
   "name": "python",
   "nbconvert_exporter": "python",
   "pygments_lexer": "ipython3",
   "version": "3.9.13"
  },
  "orig_nbformat": 4,
  "vscode": {
   "interpreter": {
    "hash": "fcfe1dd8b45e2239fc837b46f9396a091dee2beb3bcd6d09d7c251d4de4e049b"
   }
  }
 },
 "nbformat": 4,
 "nbformat_minor": 2
}
