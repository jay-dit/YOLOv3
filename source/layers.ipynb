{
 "cells": [
  {
   "cell_type": "code",
   "execution_count": 100,
   "metadata": {},
   "outputs": [],
   "source": [
    "import tensorflow as tf"
   ]
  },
  {
   "cell_type": "code",
   "execution_count": 101,
   "metadata": {},
   "outputs": [],
   "source": [
    "class Darknet_BN_Leaky(tf.keras.Model):\n",
    "    def __init__(self, \n",
    "                 filter, \n",
    "                 kernel, \n",
    "                 strides = 1,\n",
    "                 padding = 'valid'):\n",
    "        \n",
    "        \n",
    "        self.conv = tf.keras.layers.Conv2D(filter,\n",
    "                                            kernel,\n",
    "                                            strides = strides,\n",
    "                                            padding = padding)\n",
    "                                               \n",
    "        self.batch_norm = tf.keras.layers.BatchNormalization()\n",
    "        self.lrelu = tf.keras.layers.LeakyReLU()\n",
    "\n",
    "    def call(self, input_tensor, training=False):\n",
    "        x = self.conv(input_tensor)\n",
    "        x = self.batch_norm(x, training=training)\n",
    "        x = self.lrelu(x)\n",
    "        return x"
   ]
  },
  {
   "cell_type": "code",
   "execution_count": 102,
   "metadata": {},
   "outputs": [],
   "source": [
    "class Res_unit(tf.keras.Model):\n",
    "    def __init__(self,  \n",
    "                 filters,\n",
    "                 strides = 1):\n",
    "\n",
    "        self.conv1_1 = Darknet_BN_Leaky(filter = filters,\n",
    "                                        kernel = 1)\n",
    "\n",
    "        self.conv1_2 = Darknet_BN_Leaky(filter = filters * 2,\n",
    "                                        kernel = 3,\n",
    "                                        padding = 'same'\n",
    "                                        )\n",
    "        \n",
    "\n",
    "    def call(self, input_tensor):\n",
    "        \n",
    "        x = self.conv1_1(input_tensor)\n",
    "        x = self.conv1_2(x)\n",
    "\n",
    "        x += input_tensor\n",
    "\n",
    "        return x "
   ]
  },
  {
   "cell_type": "code",
   "execution_count": 103,
   "metadata": {},
   "outputs": [],
   "source": [
    "class ResBlock_N(tf.keras.Model):\n",
    "\n",
    "    def __init__(self,  \n",
    "                 filters, \n",
    "                 kernel):\n",
    "        \n",
    "        self.DBL = tf.keras.layers.Conv2D(filters[0],\n",
    "                                          kernel)\n",
    "\n",
    "        self.res_body = []\n",
    "\n",
    "        for ind in range(1, len(filters)):\n",
    "            self.res_body.append(Res_unit(filters[ind]))\n",
    "\n",
    "    def call(self, input_tensor):\n",
    "\n",
    "        x = self.DBL(input_tensor)\n",
    "\n",
    "        for Res_Unit in self.res_body:\n",
    "            x = Res_Unit(x)\n",
    "\n",
    "        return x"
   ]
  },
  {
   "cell_type": "code",
   "execution_count": 1,
   "metadata": {},
   "outputs": [],
   "source": [
    "from tensorflow.keras.layers import Input\n",
    "\n",
    "def build_model(image_height, image_width):\n",
    "\n",
    "    input_1 = Input(shape = (image_height, image_width), name = 'Input')\n",
    "\n",
    "    DBL_1 = Darknet_BN_Leaky(32, 3)(input_1)\n",
    "\n",
    "    res1 = ResBlock_N([32, 64], 3)(DBL_1)\n",
    "    res2 = ResBlock_N([64, 64, 128], 3)(res1)\n",
    "    res8 = ResBlock_N([128, 128, 256, 256, 512, 512, 1024, 1024], 3)(res2)\n",
    "    res4 = ResBlock_N([1024, 2048, 2048, 2048, 2048 ], 3)(res8)\n",
    "\n",
    "    \n",
    "    DBL_2 = Darknet_BN_Leaky(2048, 3)(res4)\n",
    "    DBL_3 = Darknet_BN_Leaky(2048, 3)(DBL_2)\n",
    "    DBL_4 = Darknet_BN_Leaky(2048, 3)(DBL_3)\n",
    "    DBL_5 = Darknet_BN_Leaky(2048, 3)(DBL_4)\n",
    "    DBL_6 = Darknet_BN_Leaky(2048, 3)(DBL_5)\n",
    "\n",
    "    model = Model(inputs = input_1, outputs = DBL_6)\n",
    "\n",
    "    return model\n"
   ]
  },
  {
   "cell_type": "code",
   "execution_count": null,
   "metadata": {},
   "outputs": [],
   "source": []
  }
 ],
 "metadata": {
  "kernelspec": {
   "display_name": "Python 3.10.6 64-bit",
   "language": "python",
   "name": "python3"
  },
  "language_info": {
   "codemirror_mode": {
    "name": "ipython",
    "version": 3
   },
   "file_extension": ".py",
   "mimetype": "text/x-python",
   "name": "python",
   "nbconvert_exporter": "python",
   "pygments_lexer": "ipython3",
   "version": "3.10.6"
  },
  "orig_nbformat": 4,
  "vscode": {
   "interpreter": {
    "hash": "64df86e3fae60c44e1134cecfb7a61663684f188b1337634634fbf2fe53591c8"
   }
  }
 },
 "nbformat": 4,
 "nbformat_minor": 2
}
