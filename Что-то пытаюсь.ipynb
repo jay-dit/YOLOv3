{
 "cells": [
  {
   "cell_type": "markdown",
   "metadata": {},
   "source": [
    "# YOLOv3\n",
    "<div style='font-size:70%;'>______________________________</div>\n",
    "<div style='font-size:70%;'>Lagutov Vladimir 2022</div>\n",
    "<div style='padding-top:2em;'>Результат!</div>\n",
    "<img src=\"img\\1.jpg\">\n",
    "<div style='padding-top:1em;'>А теперь немного о том как я к нему пришел</div>\n",
    "\n",
    "<h3 style='color: black; font-weight: bold; font-family: Arial;'>\n",
    "        <center>Реализация</center>\n",
    "</h3>\n",
    "<div>Весь код содержится в source/model</div>\n",
    "<ul>\n",
    "  <li style='padding-top:1em;'>Реализован Darknet_BN_Leaky_Relu слой</li>\n",
    "  <li style='padding-top:1em;'>Реализован Residual слой</li>\n",
    "  <li style='padding-top:1em;'>Реализовано объединение нескольких Residual слоёв вместе</li>\n",
    "  <li style='padding-top:1em;'>Реализована модель YoloV3 tiny</li>\n",
    "  <img width=\"500\" height=\"900\" src=\"img\\model.jpg\">\n",
    "  <div style='padding-top:1em;font-size:90%;'>На данной картинке был произведен Reshape выходных слоев для их упрощенного вывода, однако обучение проводилось на модели с нормальными выходами</div>\n",
    "  <li style='padding-top:2em;'>Так же был реализована кастомная функция ошибок</li>\n",
    "  <img width=\"500\" height=\"300\" src=\"img\\loss.png\">\n",
    "  <div style='padding-top:1em;font-size:90%;'>Взято из работы You Only Look Once:Unified, Real-Time Object Detection</div>\n",
    "</ul>\n",
    "\n",
    "\n",
    "<h3 style='color: black; font-weight: bold; font-family: Arial; padding-top:3em;'>\n",
    "        <center>Датасет</center>\n",
    "</h3>\n",
    "<div style='padding-top:1em;'>После того, как модель была построена, я сгенерировал обучающий датасет</div>\n",
    "<div style='padding-top:1em;'>Экзогенная переменная - одна картинка содержит рандомный фон и N количество пончиков на ней</div>\n",
    "<div style='padding-top:1em;'>Эндогенная переменная - матрица 13x13x6 / 26x26x6 (Anchor boxes)</div>\n",
    "<div style='padding-top:1em;'>Полный процесс генерации описан в source/data_generation</div>\n",
    "\n",
    "<h3 style='color: black; font-weight: bold; font-family: Arial; padding-top:3em;'>\n",
    "        <center>Обучение</center>\n",
    "</h3>\n",
    "<div style='padding-top:1em;'>Обучение производиось с использование адаптивного шага обучения</div>\n",
    "<div style='padding-top:1em;'>Всего 100 эпох (около часа обучения на Видеокарте)</div>\n",
    "<div style='padding-top:1em;'>После чего был получен вот такой результат:</div>\n",
    "<img src=\"img\\1.jpg\">\n",
    "<img src=\"img\\2.jpg\">\n",
    "<img src=\"img\\3.jpg\">\n",
    "<div style='padding-top:1em;'>Конечно никакой практической применимость от этого нет</div>\n",
    "<div style='padding-top:1em;'>Однако этот результат показывает, что код полностью рабочий и может использоваться на любых данных</div>\n"
   ]
  },
  {
   "cell_type": "markdown",
   "id": "328cb3c1",
   "metadata": {},
   "source": []
  }
 ],
 "metadata": {
  "kernelspec": {
   "display_name": "Python 3.9.13 ('YOLO': venv)",
   "language": "python",
   "name": "python3"
  },
  "language_info": {
   "codemirror_mode": {
    "name": "ipython",
    "version": 3
   },
   "file_extension": ".py",
   "mimetype": "text/x-python",
   "name": "python",
   "nbconvert_exporter": "python",
   "pygments_lexer": "ipython3",
   "version": "3.9.13"
  },
  "vscode": {
   "interpreter": {
    "hash": "1665bf27a970f9f80e78ea400f2074e7e12796c8889da21c44ef353b61b4c7ee"
   }
  }
 },
 "nbformat": 4,
 "nbformat_minor": 5
}
